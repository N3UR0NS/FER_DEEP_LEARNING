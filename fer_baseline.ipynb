{
 "cells": [
  {
   "cell_type": "markdown",
   "metadata": {
    "id": "bWGXPhEHbJVL"
   },
   "source": [
    "**[Google Colab Link](https://colab.research.google.com/drive/1mvxrpLY87A_2ZRLrLkOsStWDpsCfRRZh?usp=sharing)**"
   ]
  },
  {
   "cell_type": "code",
   "execution_count": null,
   "metadata": {
    "colab": {
     "base_uri": "https://localhost:8080/"
    },
    "executionInfo": {
     "elapsed": 24586,
     "status": "ok",
     "timestamp": 1620130494714,
     "user": {
      "displayName": "DILIP KUMAR",
      "photoUrl": "https://lh3.googleusercontent.com/-GvsKko-zSCI/AAAAAAAAAAI/AAAAAAAAAIM/MZ8MJ9KCzKU/s64/photo.jpg",
      "userId": "04096154569838380800"
     },
     "user_tz": -330
    },
    "id": "5JEFoG1pKdsq",
    "outputId": "ddc9f2f8-f35d-4d2b-a7ae-0379972f6924"
   },
   "outputs": [
    {
     "name": "stdout",
     "output_type": "stream",
     "text": [
      "Mounted at /content/drive\n"
     ]
    }
   ],
   "source": [
    "from google.colab import drive\n",
    "drive.mount('/content/drive')"
   ]
  },
  {
   "cell_type": "code",
   "execution_count": null,
   "metadata": {
    "id": "0mgSEH4wjRuF"
   },
   "outputs": [],
   "source": [
    "import pandas as pd\n",
    "import matplotlib.pyplot as plt\n",
    "\n",
    "import tensorflow as tf\n",
    "from tensorflow import keras\n",
    "from tensorflow.keras.preprocessing.image import ImageDataGenerator\n",
    "\n",
    "from tensorflow.keras.models import Sequential\n",
    "from tensorflow.keras.layers import Dense, Flatten\n",
    "from tensorflow.keras.layers import Conv2D, MaxPooling2D, BatchNormalization\n",
    "from tensorflow.keras.optimizers import SGD\n",
    "from tensorflow.keras.callbacks import ReduceLROnPlateau\n",
    "from tensorflow.keras.callbacks import ModelCheckpoint, EarlyStopping"
   ]
  },
  {
   "cell_type": "code",
   "execution_count": null,
   "metadata": {
    "id": "G5F9Fk7t_dBR"
   },
   "outputs": [],
   "source": [
    "# !rm -r '/content/csvs'\n",
    "!unzip -q /content/drive/MyDrive/dataset/csvs.zip"
   ]
  },
  {
   "cell_type": "markdown",
   "metadata": {
    "id": "oGKr9LPfcQYY"
   },
   "source": [
    "[datagen.py file](https://drive.google.com/file/d/1oe6ou94stmeOYq-3iCrgahmzeLBBpVln/view?usp=sharing)\n",
    " and this notebook are in the same directory\n",
    "\n",
    "---\n",
    "\n"
   ]
  },
  {
   "cell_type": "code",
   "execution_count": null,
   "metadata": {
    "colab": {
     "base_uri": "https://localhost:8080/",
     "height": 219,
     "referenced_widgets": [
      "36f7139597614dbeaf1499312a2a3b8b",
      "caea5bbd09514249b4aea60d2ee8365c",
      "374ecffa35cc44a681db66c1693451af",
      "34c3cdb6441e451792ddc58fb4c2e22a",
      "77d0750008c440d7aa994932008ab945",
      "2f704a88ded943279e2b4512053390d1",
      "6025978d229a48509ef0c2a2a34c0457",
      "6dc5b00076d8404ab63838aca07fb5d6"
     ]
    },
    "executionInfo": {
     "elapsed": 31714,
     "status": "ok",
     "timestamp": 1620130538247,
     "user": {
      "displayName": "DILIP KUMAR",
      "photoUrl": "https://lh3.googleusercontent.com/-GvsKko-zSCI/AAAAAAAAAAI/AAAAAAAAAIM/MZ8MJ9KCzKU/s64/photo.jpg",
      "userId": "04096154569838380800"
     },
     "user_tz": -330
    },
    "id": "3sSWcdlu6-r8",
    "outputId": "a94a113f-b21a-4f38-ed44-81747c6614ac"
   },
   "outputs": [
    {
     "name": "stdout",
     "output_type": "stream",
     "text": [
      "--> icml_face_data_1.csv\n",
      "--> icml_face_data_2.csv\n",
      "--> icml_face_data_3.csv\n",
      "--> icml_face_data_4.csv\n",
      "--> icml_face_data_5.csv\n",
      "--> icml_face_data_6.csv\n"
     ]
    },
    {
     "data": {
      "application/vnd.jupyter.widget-view+json": {
       "model_id": "36f7139597614dbeaf1499312a2a3b8b",
       "version_major": 2,
       "version_minor": 0
      },
      "text/plain": [
       "HBox(children=(FloatProgress(value=1.0, bar_style='info', max=1.0), HTML(value='')))"
      ]
     },
     "metadata": {
      "tags": []
     },
     "output_type": "display_data"
    },
    {
     "name": "stdout",
     "output_type": "stream",
     "text": [
      "\n",
      "Training Data size: 28709\n",
      "Validation Data size: 3589\n",
      "Test Data size: 3589\n"
     ]
    }
   ],
   "source": [
    "# !rm -r '/content/data'\n",
    "import sys\n",
    "sys.path.insert(0, '/content/drive/MyDrive/Colab Notebooks/')\n",
    "from datagen import csv2img, get_datagenerator\n",
    "\n",
    "df = csv2img('/content/csvs')"
   ]
  },
  {
   "cell_type": "code",
   "execution_count": null,
   "metadata": {
    "colab": {
     "base_uri": "https://localhost:8080/",
     "height": 204
    },
    "executionInfo": {
     "elapsed": 1784,
     "status": "ok",
     "timestamp": 1620130543623,
     "user": {
      "displayName": "DILIP KUMAR",
      "photoUrl": "https://lh3.googleusercontent.com/-GvsKko-zSCI/AAAAAAAAAAI/AAAAAAAAAIM/MZ8MJ9KCzKU/s64/photo.jpg",
      "userId": "04096154569838380800"
     },
     "user_tz": -330
    },
    "id": "a7DavY1eKPbA",
    "outputId": "29f1f160-7c26-406a-c3f3-bf7682be4a48"
   },
   "outputs": [
    {
     "data": {
      "text/html": [
       "<div>\n",
       "<style scoped>\n",
       "    .dataframe tbody tr th:only-of-type {\n",
       "        vertical-align: middle;\n",
       "    }\n",
       "\n",
       "    .dataframe tbody tr th {\n",
       "        vertical-align: top;\n",
       "    }\n",
       "\n",
       "    .dataframe thead th {\n",
       "        text-align: right;\n",
       "    }\n",
       "</style>\n",
       "<table border=\"1\" class=\"dataframe\">\n",
       "  <thead>\n",
       "    <tr style=\"text-align: right;\">\n",
       "      <th></th>\n",
       "      <th>emotion</th>\n",
       "      <th>usage</th>\n",
       "      <th>pixels</th>\n",
       "    </tr>\n",
       "  </thead>\n",
       "  <tbody>\n",
       "    <tr>\n",
       "      <th>0</th>\n",
       "      <td>0</td>\n",
       "      <td>Training</td>\n",
       "      <td>70 80 82 72 58 58 60 63 54 58 60 48 89 115 121...</td>\n",
       "    </tr>\n",
       "    <tr>\n",
       "      <th>1</th>\n",
       "      <td>0</td>\n",
       "      <td>Training</td>\n",
       "      <td>151 150 147 155 148 133 111 140 170 174 182 15...</td>\n",
       "    </tr>\n",
       "    <tr>\n",
       "      <th>2</th>\n",
       "      <td>2</td>\n",
       "      <td>Training</td>\n",
       "      <td>231 212 156 164 174 138 161 173 182 200 106 38...</td>\n",
       "    </tr>\n",
       "    <tr>\n",
       "      <th>3</th>\n",
       "      <td>4</td>\n",
       "      <td>Training</td>\n",
       "      <td>24 32 36 30 32 23 19 20 30 41 21 22 32 34 21 1...</td>\n",
       "    </tr>\n",
       "    <tr>\n",
       "      <th>4</th>\n",
       "      <td>6</td>\n",
       "      <td>Training</td>\n",
       "      <td>4 0 0 0 0 0 0 0 0 0 0 0 3 15 23 28 48 50 58 84...</td>\n",
       "    </tr>\n",
       "  </tbody>\n",
       "</table>\n",
       "</div>"
      ],
      "text/plain": [
       "   emotion     usage                                             pixels\n",
       "0        0  Training  70 80 82 72 58 58 60 63 54 58 60 48 89 115 121...\n",
       "1        0  Training  151 150 147 155 148 133 111 140 170 174 182 15...\n",
       "2        2  Training  231 212 156 164 174 138 161 173 182 200 106 38...\n",
       "3        4  Training  24 32 36 30 32 23 19 20 30 41 21 22 32 34 21 1...\n",
       "4        6  Training  4 0 0 0 0 0 0 0 0 0 0 0 3 15 23 28 48 50 58 84..."
      ]
     },
     "execution_count": 5,
     "metadata": {
      "tags": []
     },
     "output_type": "execute_result"
    }
   ],
   "source": [
    "df.head()"
   ]
  },
  {
   "cell_type": "code",
   "execution_count": null,
   "metadata": {
    "colab": {
     "base_uri": "https://localhost:8080/"
    },
    "executionInfo": {
     "elapsed": 782,
     "status": "ok",
     "timestamp": 1620130544363,
     "user": {
      "displayName": "DILIP KUMAR",
      "photoUrl": "https://lh3.googleusercontent.com/-GvsKko-zSCI/AAAAAAAAAAI/AAAAAAAAAIM/MZ8MJ9KCzKU/s64/photo.jpg",
      "userId": "04096154569838380800"
     },
     "user_tz": -330
    },
    "id": "M6SLHeWbKN9P",
    "outputId": "1d0d4a77-92a9-4ccc-8803-45ece7d43274"
   },
   "outputs": [
    {
     "data": {
      "text/plain": [
       "0           Training\n",
       "1           Training\n",
       "2           Training\n",
       "3           Training\n",
       "4           Training\n",
       "            ...     \n",
       "35882    PrivateTest\n",
       "35883    PrivateTest\n",
       "35884    PrivateTest\n",
       "35885    PrivateTest\n",
       "35886    PrivateTest\n",
       "Name: usage, Length: 35887, dtype: object"
      ]
     },
     "execution_count": 6,
     "metadata": {
      "tags": []
     },
     "output_type": "execute_result"
    }
   ],
   "source": [
    "df.iloc[0:,1]"
   ]
  },
  {
   "cell_type": "code",
   "execution_count": null,
   "metadata": {
    "id": "jh2qDB0sLRlE"
   },
   "outputs": [],
   "source": [
    "EPOCHS = 150\n",
    "BS = 128\n",
    "SGD_LEARNING_RATE = 0.01\n",
    "SGD_DECAY = 0.0001"
   ]
  },
  {
   "cell_type": "code",
   "execution_count": null,
   "metadata": {
    "colab": {
     "base_uri": "https://localhost:8080/"
    },
    "executionInfo": {
     "elapsed": 1868,
     "status": "ok",
     "timestamp": 1620130975234,
     "user": {
      "displayName": "DILIP KUMAR",
      "photoUrl": "https://lh3.googleusercontent.com/-GvsKko-zSCI/AAAAAAAAAAI/AAAAAAAAAIM/MZ8MJ9KCzKU/s64/photo.jpg",
      "userId": "04096154569838380800"
     },
     "user_tz": -330
    },
    "id": "PkD0vXh6JDTK",
    "outputId": "58f347d2-ddac-45b5-ab76-555a8c082908"
   },
   "outputs": [
    {
     "name": "stdout",
     "output_type": "stream",
     "text": [
      "Found 28709 images belonging to 7 classes.\n",
      "Found 3589 images belonging to 7 classes.\n",
      "Found 3589 images belonging to 7 classes.\n"
     ]
    }
   ],
   "source": [
    "pf = None\n",
    "\n",
    "train_generator  = get_datagenerator('/content/data/train',preprocessing_func=pf, aug=True)\n",
    "val_generator    = get_datagenerator('/content/data/test-public',preprocessing_func=pf)\n",
    "test_generator  = get_datagenerator('/content/data/test-private',preprocessing_func=pf)"
   ]
  },
  {
   "cell_type": "code",
   "execution_count": null,
   "metadata": {
    "id": "gH0mqhdDH2z_"
   },
   "outputs": [],
   "source": [
    "model = Sequential()\n",
    "model.add(BatchNormalization(input_shape=(48,48,1)))\n",
    "model.add(Conv2D(32, (3, 3), activation='relu',padding='same', input_shape=(48, 48, 1)))\n",
    "model.add(BatchNormalization())\n",
    "model.add(MaxPooling2D((2, 2)))\n",
    "model.add(Conv2D(64, (3, 3), activation='relu', padding='same'))\n",
    "model.add(BatchNormalization())\n",
    "model.add(MaxPooling2D((2, 2)))\n",
    "model.add(Conv2D(64, (3, 3), activation='relu', padding='same'))\n",
    "model.add(BatchNormalization())\n",
    "model.add(MaxPooling2D((2, 2)))\n",
    "model.add(Conv2D(64, (3, 3), activation='relu',padding='same'))\n",
    "model.add(BatchNormalization())\n",
    "model.add(MaxPooling2D(pool_size=(2, 2)))\n",
    "model.add(Flatten())\n",
    "model.add(Dense(64, activation='relu'))\n",
    "model.add(BatchNormalization())\n",
    "model.add(Dense(7, activation='softmax'))\n",
    "\n",
    "sgd = SGD(lr=SGD_LEARNING_RATE,momentum=0.9, decay=SGD_DECAY, nesterov=True)\n",
    "model.compile(loss='categorical_crossentropy',optimizer=sgd,metrics=['accuracy'])\n",
    "\n",
    "# checkpoint\n",
    "cp_filepath='/content/drive/MyDrive/fer/cps/baseline-weights-best.hdf5'\n",
    "rlrop = keras.callbacks.ReduceLROnPlateau(monitor='val_accuracy',mode='max',factor=0.5, patience=10, min_lr=0.00001, verbose=1)\n",
    "checkpoint = ModelCheckpoint(cp_filepath, monitor='val_accuracy', verbose=1, save_best_only=True, mode='max')\n",
    "callbacks_list = [rlrop,checkpoint]"
   ]
  },
  {
   "cell_type": "code",
   "execution_count": null,
   "metadata": {
    "colab": {
     "base_uri": "https://localhost:8080/"
    },
    "executionInfo": {
     "elapsed": 168520,
     "status": "ok",
     "timestamp": 1620133848951,
     "user": {
      "displayName": "DILIP KUMAR",
      "photoUrl": "https://lh3.googleusercontent.com/-GvsKko-zSCI/AAAAAAAAAAI/AAAAAAAAAIM/MZ8MJ9KCzKU/s64/photo.jpg",
      "userId": "04096154569838380800"
     },
     "user_tz": -330
    },
    "id": "wY8PdJOTLlSj",
    "outputId": "8091d2cb-bee0-487c-948b-937289feee6d"
   },
   "outputs": [
    {
     "name": "stdout",
     "output_type": "stream",
     "text": [
      "Epoch 1/150\n",
      "224/224 [==============================] - 21s 90ms/step - loss: 1.9216 - accuracy: 0.2580 - val_loss: 1.9147 - val_accuracy: 0.2595\n",
      "\n",
      "Epoch 00001: val_accuracy improved from -inf to 0.25955, saving model to /content/drive/MyDrive/fer/cps/baseline-weights-best.hdf5\n",
      "Epoch 2/150\n",
      "224/224 [==============================] - 20s 88ms/step - loss: 1.5694 - accuracy: 0.3930 - val_loss: 1.4745 - val_accuracy: 0.4201\n",
      "\n",
      "Epoch 00002: val_accuracy improved from 0.25955 to 0.42014, saving model to /content/drive/MyDrive/fer/cps/baseline-weights-best.hdf5\n",
      "Epoch 3/150\n",
      "224/224 [==============================] - 20s 88ms/step - loss: 1.4299 - accuracy: 0.4494 - val_loss: 1.4114 - val_accuracy: 0.4604\n",
      "\n",
      "Epoch 00003: val_accuracy improved from 0.42014 to 0.46036, saving model to /content/drive/MyDrive/fer/cps/baseline-weights-best.hdf5\n",
      "Epoch 4/150\n",
      "224/224 [==============================] - 19s 87ms/step - loss: 1.3390 - accuracy: 0.4839 - val_loss: 1.2929 - val_accuracy: 0.4968\n",
      "\n",
      "Epoch 00004: val_accuracy improved from 0.46036 to 0.49682, saving model to /content/drive/MyDrive/fer/cps/baseline-weights-best.hdf5\n",
      "Epoch 5/150\n",
      "224/224 [==============================] - 19s 85ms/step - loss: 1.2841 - accuracy: 0.5087 - val_loss: 1.3053 - val_accuracy: 0.4988\n",
      "\n",
      "Epoch 00005: val_accuracy improved from 0.49682 to 0.49884, saving model to /content/drive/MyDrive/fer/cps/baseline-weights-best.hdf5\n",
      "Epoch 6/150\n",
      "224/224 [==============================] - 19s 84ms/step - loss: 1.2718 - accuracy: 0.5080 - val_loss: 1.2391 - val_accuracy: 0.5408\n",
      "\n",
      "Epoch 00006: val_accuracy improved from 0.49884 to 0.54080, saving model to /content/drive/MyDrive/fer/cps/baseline-weights-best.hdf5\n",
      "Epoch 7/150\n",
      "224/224 [==============================] - 19s 85ms/step - loss: 1.2253 - accuracy: 0.5320 - val_loss: 1.2262 - val_accuracy: 0.5359\n",
      "\n",
      "Epoch 00007: val_accuracy did not improve from 0.54080\n",
      "Epoch 8/150\n",
      "224/224 [==============================] - 19s 84ms/step - loss: 1.1918 - accuracy: 0.5451 - val_loss: 1.2256 - val_accuracy: 0.5324\n",
      "\n",
      "Epoch 00008: val_accuracy did not improve from 0.54080\n",
      "Epoch 9/150\n",
      "224/224 [==============================] - 19s 84ms/step - loss: 1.1795 - accuracy: 0.5488 - val_loss: 1.1533 - val_accuracy: 0.5587\n",
      "\n",
      "Epoch 00009: val_accuracy improved from 0.54080 to 0.55874, saving model to /content/drive/MyDrive/fer/cps/baseline-weights-best.hdf5\n",
      "Epoch 10/150\n",
      "224/224 [==============================] - 19s 85ms/step - loss: 1.1580 - accuracy: 0.5635 - val_loss: 1.2011 - val_accuracy: 0.5385\n",
      "\n",
      "Epoch 00010: val_accuracy did not improve from 0.55874\n",
      "Epoch 11/150\n",
      "224/224 [==============================] - 19s 85ms/step - loss: 1.1344 - accuracy: 0.5723 - val_loss: 1.1576 - val_accuracy: 0.5692\n",
      "\n",
      "Epoch 00011: val_accuracy improved from 0.55874 to 0.56916, saving model to /content/drive/MyDrive/fer/cps/baseline-weights-best.hdf5\n",
      "Epoch 12/150\n",
      "224/224 [==============================] - 19s 85ms/step - loss: 1.1265 - accuracy: 0.5709 - val_loss: 1.1831 - val_accuracy: 0.5616\n",
      "\n",
      "Epoch 00012: val_accuracy did not improve from 0.56916\n",
      "Epoch 13/150\n",
      "224/224 [==============================] - 19s 85ms/step - loss: 1.1099 - accuracy: 0.5836 - val_loss: 1.1294 - val_accuracy: 0.5720\n",
      "\n",
      "Epoch 00013: val_accuracy improved from 0.56916 to 0.57205, saving model to /content/drive/MyDrive/fer/cps/baseline-weights-best.hdf5\n",
      "Epoch 14/150\n",
      "224/224 [==============================] - 19s 86ms/step - loss: 1.1082 - accuracy: 0.5775 - val_loss: 1.1507 - val_accuracy: 0.5726\n",
      "\n",
      "Epoch 00014: val_accuracy improved from 0.57205 to 0.57263, saving model to /content/drive/MyDrive/fer/cps/baseline-weights-best.hdf5\n",
      "Epoch 15/150\n",
      "224/224 [==============================] - 19s 86ms/step - loss: 1.0978 - accuracy: 0.5862 - val_loss: 1.2133 - val_accuracy: 0.5564\n",
      "\n",
      "Epoch 00015: val_accuracy did not improve from 0.57263\n",
      "Epoch 16/150\n",
      "224/224 [==============================] - 19s 85ms/step - loss: 1.0730 - accuracy: 0.5940 - val_loss: 1.1400 - val_accuracy: 0.5692\n",
      "\n",
      "Epoch 00016: val_accuracy did not improve from 0.57263\n",
      "Epoch 17/150\n",
      "224/224 [==============================] - 19s 86ms/step - loss: 1.0626 - accuracy: 0.5967 - val_loss: 1.1083 - val_accuracy: 0.5836\n",
      "\n",
      "Epoch 00017: val_accuracy improved from 0.57263 to 0.58362, saving model to /content/drive/MyDrive/fer/cps/baseline-weights-best.hdf5\n",
      "Epoch 18/150\n",
      "224/224 [==============================] - 19s 85ms/step - loss: 1.0526 - accuracy: 0.6047 - val_loss: 1.1218 - val_accuracy: 0.5807\n",
      "\n",
      "Epoch 00018: val_accuracy did not improve from 0.58362\n",
      "Epoch 19/150\n",
      "224/224 [==============================] - 19s 85ms/step - loss: 1.0523 - accuracy: 0.6000 - val_loss: 1.1068 - val_accuracy: 0.5767\n",
      "\n",
      "Epoch 00019: val_accuracy did not improve from 0.58362\n",
      "Epoch 20/150\n",
      "224/224 [==============================] - 19s 86ms/step - loss: 1.0447 - accuracy: 0.6022 - val_loss: 1.0982 - val_accuracy: 0.5865\n",
      "\n",
      "Epoch 00020: val_accuracy improved from 0.58362 to 0.58652, saving model to /content/drive/MyDrive/fer/cps/baseline-weights-best.hdf5\n",
      "Epoch 21/150\n",
      "224/224 [==============================] - 19s 85ms/step - loss: 1.0387 - accuracy: 0.6084 - val_loss: 1.1143 - val_accuracy: 0.5935\n",
      "\n",
      "Epoch 00021: val_accuracy improved from 0.58652 to 0.59346, saving model to /content/drive/MyDrive/fer/cps/baseline-weights-best.hdf5\n",
      "Epoch 22/150\n",
      "224/224 [==============================] - 19s 85ms/step - loss: 1.0253 - accuracy: 0.6131 - val_loss: 1.0856 - val_accuracy: 0.5998\n",
      "\n",
      "Epoch 00022: val_accuracy improved from 0.59346 to 0.59983, saving model to /content/drive/MyDrive/fer/cps/baseline-weights-best.hdf5\n",
      "Epoch 23/150\n",
      "224/224 [==============================] - 19s 85ms/step - loss: 1.0265 - accuracy: 0.6096 - val_loss: 1.0918 - val_accuracy: 0.5897\n",
      "\n",
      "Epoch 00023: val_accuracy did not improve from 0.59983\n",
      "Epoch 24/150\n",
      "224/224 [==============================] - 19s 85ms/step - loss: 1.0135 - accuracy: 0.6187 - val_loss: 1.0825 - val_accuracy: 0.5955\n",
      "\n",
      "Epoch 00024: val_accuracy did not improve from 0.59983\n",
      "Epoch 25/150\n",
      "224/224 [==============================] - 19s 86ms/step - loss: 1.0238 - accuracy: 0.6123 - val_loss: 1.0851 - val_accuracy: 0.5992\n",
      "\n",
      "Epoch 00025: val_accuracy did not improve from 0.59983\n",
      "Epoch 26/150\n",
      "224/224 [==============================] - 19s 86ms/step - loss: 1.0030 - accuracy: 0.6245 - val_loss: 1.0762 - val_accuracy: 0.6010\n",
      "\n",
      "Epoch 00026: val_accuracy improved from 0.59983 to 0.60098, saving model to /content/drive/MyDrive/fer/cps/baseline-weights-best.hdf5\n",
      "Epoch 27/150\n",
      "224/224 [==============================] - 19s 84ms/step - loss: 0.9991 - accuracy: 0.6228 - val_loss: 1.0821 - val_accuracy: 0.5952\n",
      "\n",
      "Epoch 00027: val_accuracy did not improve from 0.60098\n",
      "Epoch 28/150\n",
      "224/224 [==============================] - 19s 85ms/step - loss: 0.9829 - accuracy: 0.6294 - val_loss: 1.0804 - val_accuracy: 0.5920\n",
      "\n",
      "Epoch 00028: val_accuracy did not improve from 0.60098\n",
      "Epoch 29/150\n",
      "224/224 [==============================] - 19s 86ms/step - loss: 0.9840 - accuracy: 0.6274 - val_loss: 1.0759 - val_accuracy: 0.5935\n",
      "\n",
      "Epoch 00029: val_accuracy did not improve from 0.60098\n",
      "Epoch 30/150\n",
      "224/224 [==============================] - 19s 85ms/step - loss: 0.9814 - accuracy: 0.6263 - val_loss: 1.0491 - val_accuracy: 0.6045\n",
      "\n",
      "Epoch 00030: val_accuracy improved from 0.60098 to 0.60446, saving model to /content/drive/MyDrive/fer/cps/baseline-weights-best.hdf5\n",
      "Epoch 31/150\n",
      "224/224 [==============================] - 19s 84ms/step - loss: 0.9770 - accuracy: 0.6282 - val_loss: 1.0720 - val_accuracy: 0.6091\n",
      "\n",
      "Epoch 00031: val_accuracy improved from 0.60446 to 0.60909, saving model to /content/drive/MyDrive/fer/cps/baseline-weights-best.hdf5\n",
      "Epoch 32/150\n",
      "224/224 [==============================] - 19s 84ms/step - loss: 0.9644 - accuracy: 0.6403 - val_loss: 1.0560 - val_accuracy: 0.6073\n",
      "\n",
      "Epoch 00032: val_accuracy did not improve from 0.60909\n",
      "Epoch 33/150\n",
      "224/224 [==============================] - 19s 84ms/step - loss: 0.9650 - accuracy: 0.6325 - val_loss: 1.0793 - val_accuracy: 0.5990\n",
      "\n",
      "Epoch 00033: val_accuracy did not improve from 0.60909\n",
      "Epoch 34/150\n",
      "224/224 [==============================] - 19s 85ms/step - loss: 0.9571 - accuracy: 0.6374 - val_loss: 1.0462 - val_accuracy: 0.6111\n",
      "\n",
      "Epoch 00034: val_accuracy improved from 0.60909 to 0.61111, saving model to /content/drive/MyDrive/fer/cps/baseline-weights-best.hdf5\n",
      "Epoch 35/150\n",
      "224/224 [==============================] - 19s 85ms/step - loss: 0.9609 - accuracy: 0.6402 - val_loss: 1.0523 - val_accuracy: 0.6160\n",
      "\n",
      "Epoch 00035: val_accuracy improved from 0.61111 to 0.61603, saving model to /content/drive/MyDrive/fer/cps/baseline-weights-best.hdf5\n",
      "Epoch 36/150\n",
      "224/224 [==============================] - 19s 85ms/step - loss: 0.9513 - accuracy: 0.6387 - val_loss: 1.0579 - val_accuracy: 0.6105\n",
      "\n",
      "Epoch 00036: val_accuracy did not improve from 0.61603\n",
      "Epoch 37/150\n",
      "224/224 [==============================] - 19s 84ms/step - loss: 0.9487 - accuracy: 0.6430 - val_loss: 1.0244 - val_accuracy: 0.6160\n",
      "\n",
      "Epoch 00037: val_accuracy did not improve from 0.61603\n",
      "Epoch 38/150\n",
      "224/224 [==============================] - 19s 85ms/step - loss: 0.9443 - accuracy: 0.6443 - val_loss: 1.1018 - val_accuracy: 0.5949\n",
      "\n",
      "Epoch 00038: val_accuracy did not improve from 0.61603\n",
      "Epoch 39/150\n",
      "224/224 [==============================] - 19s 84ms/step - loss: 0.9405 - accuracy: 0.6458 - val_loss: 1.1183 - val_accuracy: 0.5935\n",
      "\n",
      "Epoch 00039: val_accuracy did not improve from 0.61603\n",
      "Epoch 40/150\n",
      "224/224 [==============================] - 19s 84ms/step - loss: 0.9368 - accuracy: 0.6488 - val_loss: 1.0551 - val_accuracy: 0.6149\n",
      "\n",
      "Epoch 00040: val_accuracy did not improve from 0.61603\n",
      "Epoch 41/150\n",
      "224/224 [==============================] - 19s 84ms/step - loss: 0.9411 - accuracy: 0.6489 - val_loss: 1.0450 - val_accuracy: 0.6160\n",
      "\n",
      "Epoch 00041: val_accuracy did not improve from 0.61603\n",
      "Epoch 42/150\n",
      "224/224 [==============================] - 19s 85ms/step - loss: 0.9220 - accuracy: 0.6499 - val_loss: 1.0634 - val_accuracy: 0.6088\n",
      "\n",
      "Epoch 00042: val_accuracy did not improve from 0.61603\n",
      "Epoch 43/150\n",
      "224/224 [==============================] - 19s 84ms/step - loss: 0.9286 - accuracy: 0.6495 - val_loss: 1.0775 - val_accuracy: 0.6102\n",
      "\n",
      "Epoch 00043: val_accuracy did not improve from 0.61603\n",
      "Epoch 44/150\n",
      "224/224 [==============================] - 19s 84ms/step - loss: 0.9226 - accuracy: 0.6507 - val_loss: 1.0438 - val_accuracy: 0.6163\n",
      "\n",
      "Epoch 00044: val_accuracy improved from 0.61603 to 0.61632, saving model to /content/drive/MyDrive/fer/cps/baseline-weights-best.hdf5\n",
      "Epoch 45/150\n",
      "224/224 [==============================] - 19s 84ms/step - loss: 0.9240 - accuracy: 0.6518 - val_loss: 1.0365 - val_accuracy: 0.6215\n",
      "\n",
      "Epoch 00045: val_accuracy improved from 0.61632 to 0.62153, saving model to /content/drive/MyDrive/fer/cps/baseline-weights-best.hdf5\n",
      "Epoch 46/150\n",
      "224/224 [==============================] - 19s 84ms/step - loss: 0.9155 - accuracy: 0.6544 - val_loss: 1.0534 - val_accuracy: 0.6178\n",
      "\n",
      "Epoch 00046: val_accuracy did not improve from 0.62153\n",
      "Epoch 47/150\n",
      "224/224 [==============================] - 19s 84ms/step - loss: 0.9164 - accuracy: 0.6522 - val_loss: 1.0579 - val_accuracy: 0.6097\n",
      "\n",
      "Epoch 00047: val_accuracy did not improve from 0.62153\n",
      "Epoch 48/150\n",
      "224/224 [==============================] - 19s 84ms/step - loss: 0.9061 - accuracy: 0.6563 - val_loss: 1.0306 - val_accuracy: 0.6250\n",
      "\n",
      "Epoch 00048: val_accuracy improved from 0.62153 to 0.62500, saving model to /content/drive/MyDrive/fer/cps/baseline-weights-best.hdf5\n",
      "Epoch 49/150\n",
      "224/224 [==============================] - 19s 84ms/step - loss: 0.9176 - accuracy: 0.6554 - val_loss: 1.0457 - val_accuracy: 0.6181\n",
      "\n",
      "Epoch 00049: val_accuracy did not improve from 0.62500\n",
      "Epoch 50/150\n",
      "224/224 [==============================] - 19s 85ms/step - loss: 0.9123 - accuracy: 0.6578 - val_loss: 1.0406 - val_accuracy: 0.6262\n",
      "\n",
      "Epoch 00050: val_accuracy improved from 0.62500 to 0.62616, saving model to /content/drive/MyDrive/fer/cps/baseline-weights-best.hdf5\n",
      "Epoch 51/150\n",
      "224/224 [==============================] - 19s 85ms/step - loss: 0.9068 - accuracy: 0.6584 - val_loss: 1.0462 - val_accuracy: 0.6163\n",
      "\n",
      "Epoch 00051: val_accuracy did not improve from 0.62616\n",
      "Epoch 52/150\n",
      "224/224 [==============================] - 19s 84ms/step - loss: 0.9066 - accuracy: 0.6590 - val_loss: 1.0388 - val_accuracy: 0.6201\n",
      "\n",
      "Epoch 00052: val_accuracy did not improve from 0.62616\n",
      "Epoch 53/150\n",
      "224/224 [==============================] - 19s 83ms/step - loss: 0.9082 - accuracy: 0.6576 - val_loss: 1.0364 - val_accuracy: 0.6250\n",
      "\n",
      "Epoch 00053: val_accuracy did not improve from 0.62616\n",
      "Epoch 54/150\n",
      "224/224 [==============================] - 19s 84ms/step - loss: 0.8926 - accuracy: 0.6636 - val_loss: 1.0496 - val_accuracy: 0.6195\n",
      "\n",
      "Epoch 00054: val_accuracy did not improve from 0.62616\n",
      "Epoch 55/150\n",
      "224/224 [==============================] - 19s 84ms/step - loss: 0.8993 - accuracy: 0.6644 - val_loss: 1.0425 - val_accuracy: 0.6267\n",
      "\n",
      "Epoch 00055: val_accuracy improved from 0.62616 to 0.62674, saving model to /content/drive/MyDrive/fer/cps/baseline-weights-best.hdf5\n",
      "Epoch 56/150\n",
      "224/224 [==============================] - 19s 83ms/step - loss: 0.8931 - accuracy: 0.6666 - val_loss: 1.0506 - val_accuracy: 0.6189\n",
      "\n",
      "Epoch 00056: val_accuracy did not improve from 0.62674\n",
      "Epoch 57/150\n",
      "224/224 [==============================] - 19s 83ms/step - loss: 0.8873 - accuracy: 0.6660 - val_loss: 1.0381 - val_accuracy: 0.6282\n",
      "\n",
      "Epoch 00057: val_accuracy improved from 0.62674 to 0.62818, saving model to /content/drive/MyDrive/fer/cps/baseline-weights-best.hdf5\n",
      "Epoch 58/150\n",
      "224/224 [==============================] - 19s 85ms/step - loss: 0.8828 - accuracy: 0.6683 - val_loss: 1.0430 - val_accuracy: 0.6221\n",
      "\n",
      "Epoch 00058: val_accuracy did not improve from 0.62818\n",
      "Epoch 59/150\n",
      "224/224 [==============================] - 19s 84ms/step - loss: 0.8805 - accuracy: 0.6722 - val_loss: 1.0466 - val_accuracy: 0.6227\n",
      "\n",
      "Epoch 00059: val_accuracy did not improve from 0.62818\n",
      "Epoch 60/150\n",
      "224/224 [==============================] - 19s 84ms/step - loss: 0.8877 - accuracy: 0.6689 - val_loss: 1.0426 - val_accuracy: 0.6270\n",
      "\n",
      "Epoch 00060: val_accuracy did not improve from 0.62818\n",
      "Epoch 61/150\n",
      "224/224 [==============================] - 19s 84ms/step - loss: 0.8759 - accuracy: 0.6689 - val_loss: 1.0440 - val_accuracy: 0.6227\n",
      "\n",
      "Epoch 00061: val_accuracy did not improve from 0.62818\n",
      "Epoch 62/150\n",
      "224/224 [==============================] - 19s 84ms/step - loss: 0.8840 - accuracy: 0.6685 - val_loss: 1.0576 - val_accuracy: 0.6227\n",
      "\n",
      "Epoch 00062: val_accuracy did not improve from 0.62818\n",
      "Epoch 63/150\n",
      "224/224 [==============================] - 19s 84ms/step - loss: 0.8780 - accuracy: 0.6729 - val_loss: 1.0386 - val_accuracy: 0.6207\n",
      "\n",
      "Epoch 00063: val_accuracy did not improve from 0.62818\n",
      "Epoch 64/150\n",
      "224/224 [==============================] - 19s 84ms/step - loss: 0.8713 - accuracy: 0.6693 - val_loss: 1.0178 - val_accuracy: 0.6317\n",
      "\n",
      "Epoch 00064: val_accuracy improved from 0.62818 to 0.63166, saving model to /content/drive/MyDrive/fer/cps/baseline-weights-best.hdf5\n",
      "Epoch 65/150\n",
      "224/224 [==============================] - 19s 83ms/step - loss: 0.8667 - accuracy: 0.6739 - val_loss: 1.0040 - val_accuracy: 0.6363\n",
      "\n",
      "Epoch 00065: val_accuracy improved from 0.63166 to 0.63628, saving model to /content/drive/MyDrive/fer/cps/baseline-weights-best.hdf5\n",
      "Epoch 66/150\n",
      "224/224 [==============================] - 19s 84ms/step - loss: 0.8688 - accuracy: 0.6739 - val_loss: 1.0502 - val_accuracy: 0.6322\n",
      "\n",
      "Epoch 00066: val_accuracy did not improve from 0.63628\n",
      "Epoch 67/150\n",
      "224/224 [==============================] - 19s 85ms/step - loss: 0.8621 - accuracy: 0.6794 - val_loss: 1.0405 - val_accuracy: 0.6181\n",
      "\n",
      "Epoch 00067: val_accuracy did not improve from 0.63628\n",
      "Epoch 68/150\n",
      "224/224 [==============================] - 19s 84ms/step - loss: 0.8610 - accuracy: 0.6715 - val_loss: 1.0419 - val_accuracy: 0.6372\n",
      "\n",
      "Epoch 00068: val_accuracy improved from 0.63628 to 0.63715, saving model to /content/drive/MyDrive/fer/cps/baseline-weights-best.hdf5\n",
      "Epoch 69/150\n",
      "224/224 [==============================] - 19s 84ms/step - loss: 0.8537 - accuracy: 0.6757 - val_loss: 1.0270 - val_accuracy: 0.6317\n",
      "\n",
      "Epoch 00069: val_accuracy did not improve from 0.63715\n",
      "Epoch 70/150\n",
      "224/224 [==============================] - 19s 84ms/step - loss: 0.8521 - accuracy: 0.6837 - val_loss: 1.0294 - val_accuracy: 0.6380\n",
      "\n",
      "Epoch 00070: val_accuracy improved from 0.63715 to 0.63802, saving model to /content/drive/MyDrive/fer/cps/baseline-weights-best.hdf5\n",
      "Epoch 71/150\n",
      "224/224 [==============================] - 19s 84ms/step - loss: 0.8562 - accuracy: 0.6767 - val_loss: 1.0112 - val_accuracy: 0.6325\n",
      "\n",
      "Epoch 00071: val_accuracy did not improve from 0.63802\n",
      "Epoch 72/150\n",
      "224/224 [==============================] - 19s 84ms/step - loss: 0.8553 - accuracy: 0.6769 - val_loss: 1.0247 - val_accuracy: 0.6302\n",
      "\n",
      "Epoch 00072: val_accuracy did not improve from 0.63802\n",
      "Epoch 73/150\n",
      "224/224 [==============================] - 19s 84ms/step - loss: 0.8634 - accuracy: 0.6722 - val_loss: 1.0263 - val_accuracy: 0.6319\n",
      "\n",
      "Epoch 00073: val_accuracy did not improve from 0.63802\n",
      "Epoch 74/150\n",
      "224/224 [==============================] - 19s 83ms/step - loss: 0.8509 - accuracy: 0.6800 - val_loss: 1.0437 - val_accuracy: 0.6186\n",
      "\n",
      "Epoch 00074: val_accuracy did not improve from 0.63802\n",
      "Epoch 75/150\n",
      "224/224 [==============================] - 19s 83ms/step - loss: 0.8441 - accuracy: 0.6812 - val_loss: 1.0270 - val_accuracy: 0.6354\n",
      "\n",
      "Epoch 00075: val_accuracy did not improve from 0.63802\n",
      "Epoch 76/150\n",
      "224/224 [==============================] - 19s 84ms/step - loss: 0.8566 - accuracy: 0.6808 - val_loss: 1.0552 - val_accuracy: 0.6291\n",
      "\n",
      "Epoch 00076: val_accuracy did not improve from 0.63802\n",
      "Epoch 77/150\n",
      "224/224 [==============================] - 19s 84ms/step - loss: 0.8531 - accuracy: 0.6775 - val_loss: 1.0750 - val_accuracy: 0.6198\n",
      "\n",
      "Epoch 00077: val_accuracy did not improve from 0.63802\n",
      "Epoch 78/150\n",
      "224/224 [==============================] - 19s 84ms/step - loss: 0.8420 - accuracy: 0.6884 - val_loss: 1.0225 - val_accuracy: 0.6380\n",
      "\n",
      "Epoch 00078: val_accuracy did not improve from 0.63802\n",
      "Epoch 79/150\n",
      "224/224 [==============================] - 19s 83ms/step - loss: 0.8390 - accuracy: 0.6854 - val_loss: 1.0166 - val_accuracy: 0.6392\n",
      "\n",
      "Epoch 00079: val_accuracy improved from 0.63802 to 0.63918, saving model to /content/drive/MyDrive/fer/cps/baseline-weights-best.hdf5\n",
      "Epoch 80/150\n",
      "224/224 [==============================] - 19s 84ms/step - loss: 0.8389 - accuracy: 0.6869 - val_loss: 1.0440 - val_accuracy: 0.6291\n",
      "\n",
      "Epoch 00080: val_accuracy did not improve from 0.63918\n",
      "Epoch 81/150\n",
      "224/224 [==============================] - 19s 84ms/step - loss: 0.8405 - accuracy: 0.6855 - val_loss: 1.0407 - val_accuracy: 0.6308\n",
      "\n",
      "Epoch 00081: val_accuracy did not improve from 0.63918\n",
      "Epoch 82/150\n",
      "224/224 [==============================] - 19s 84ms/step - loss: 0.8366 - accuracy: 0.6850 - val_loss: 1.0297 - val_accuracy: 0.6325\n",
      "\n",
      "Epoch 00082: val_accuracy did not improve from 0.63918\n",
      "Epoch 83/150\n",
      "224/224 [==============================] - 19s 84ms/step - loss: 0.8342 - accuracy: 0.6886 - val_loss: 1.0340 - val_accuracy: 0.6328\n",
      "\n",
      "Epoch 00083: val_accuracy did not improve from 0.63918\n",
      "Epoch 84/150\n",
      "224/224 [==============================] - 19s 84ms/step - loss: 0.8354 - accuracy: 0.6860 - val_loss: 1.0333 - val_accuracy: 0.6288\n",
      "\n",
      "Epoch 00084: val_accuracy did not improve from 0.63918\n",
      "Epoch 85/150\n",
      "224/224 [==============================] - 19s 84ms/step - loss: 0.8287 - accuracy: 0.6906 - val_loss: 1.0449 - val_accuracy: 0.6383\n",
      "\n",
      "Epoch 00085: val_accuracy did not improve from 0.63918\n",
      "Epoch 86/150\n",
      "224/224 [==============================] - 19s 84ms/step - loss: 0.8281 - accuracy: 0.6873 - val_loss: 1.0240 - val_accuracy: 0.6360\n",
      "\n",
      "Epoch 00086: val_accuracy did not improve from 0.63918\n",
      "Epoch 87/150\n",
      "224/224 [==============================] - 19s 84ms/step - loss: 0.8270 - accuracy: 0.6902 - val_loss: 1.0617 - val_accuracy: 0.6186\n",
      "\n",
      "Epoch 00087: val_accuracy did not improve from 0.63918\n",
      "Epoch 88/150\n",
      "224/224 [==============================] - 19s 83ms/step - loss: 0.8245 - accuracy: 0.6888 - val_loss: 1.0358 - val_accuracy: 0.6299\n",
      "\n",
      "Epoch 00088: val_accuracy did not improve from 0.63918\n",
      "Epoch 89/150\n",
      "224/224 [==============================] - 19s 85ms/step - loss: 0.8261 - accuracy: 0.6881 - val_loss: 1.0270 - val_accuracy: 0.6421\n",
      "\n",
      "Epoch 00089: val_accuracy improved from 0.63918 to 0.64207, saving model to /content/drive/MyDrive/fer/cps/baseline-weights-best.hdf5\n",
      "Epoch 90/150\n",
      "224/224 [==============================] - 19s 84ms/step - loss: 0.8187 - accuracy: 0.6922 - val_loss: 1.0354 - val_accuracy: 0.6291\n",
      "\n",
      "Epoch 00090: val_accuracy did not improve from 0.64207\n",
      "Epoch 91/150\n",
      "224/224 [==============================] - 19s 84ms/step - loss: 0.8167 - accuracy: 0.6927 - val_loss: 1.0465 - val_accuracy: 0.6331\n",
      "\n",
      "Epoch 00091: val_accuracy did not improve from 0.64207\n",
      "Epoch 92/150\n",
      "224/224 [==============================] - 19s 84ms/step - loss: 0.8166 - accuracy: 0.6938 - val_loss: 1.0197 - val_accuracy: 0.6354\n",
      "\n",
      "Epoch 00092: val_accuracy did not improve from 0.64207\n",
      "Epoch 93/150\n",
      "224/224 [==============================] - 19s 85ms/step - loss: 0.8228 - accuracy: 0.6949 - val_loss: 1.0442 - val_accuracy: 0.6325\n",
      "\n",
      "Epoch 00093: val_accuracy did not improve from 0.64207\n",
      "Epoch 94/150\n",
      "224/224 [==============================] - 19s 84ms/step - loss: 0.8242 - accuracy: 0.6908 - val_loss: 1.0188 - val_accuracy: 0.6395\n",
      "\n",
      "Epoch 00094: val_accuracy did not improve from 0.64207\n",
      "Epoch 95/150\n",
      "224/224 [==============================] - 19s 84ms/step - loss: 0.8137 - accuracy: 0.6950 - val_loss: 1.0444 - val_accuracy: 0.6337\n",
      "\n",
      "Epoch 00095: val_accuracy did not improve from 0.64207\n",
      "Epoch 96/150\n",
      "224/224 [==============================] - 19s 84ms/step - loss: 0.8182 - accuracy: 0.6914 - val_loss: 1.0121 - val_accuracy: 0.6435\n",
      "\n",
      "Epoch 00096: val_accuracy improved from 0.64207 to 0.64352, saving model to /content/drive/MyDrive/fer/cps/baseline-weights-best.hdf5\n",
      "Epoch 97/150\n",
      "224/224 [==============================] - 19s 84ms/step - loss: 0.8268 - accuracy: 0.6949 - val_loss: 1.0268 - val_accuracy: 0.6308\n",
      "\n",
      "Epoch 00097: val_accuracy did not improve from 0.64352\n",
      "Epoch 98/150\n",
      "224/224 [==============================] - 19s 85ms/step - loss: 0.8139 - accuracy: 0.6955 - val_loss: 1.0305 - val_accuracy: 0.6403\n",
      "\n",
      "Epoch 00098: val_accuracy did not improve from 0.64352\n",
      "Epoch 99/150\n",
      "224/224 [==============================] - 19s 84ms/step - loss: 0.8105 - accuracy: 0.6976 - val_loss: 1.0464 - val_accuracy: 0.6418\n",
      "\n",
      "Epoch 00099: val_accuracy did not improve from 0.64352\n",
      "Epoch 100/150\n",
      "224/224 [==============================] - 19s 85ms/step - loss: 0.8059 - accuracy: 0.6976 - val_loss: 1.0393 - val_accuracy: 0.6282\n",
      "\n",
      "Epoch 00100: val_accuracy did not improve from 0.64352\n",
      "Epoch 101/150\n",
      "224/224 [==============================] - 19s 84ms/step - loss: 0.8113 - accuracy: 0.6973 - val_loss: 1.0352 - val_accuracy: 0.6389\n",
      "\n",
      "Epoch 00101: val_accuracy did not improve from 0.64352\n",
      "Epoch 102/150\n",
      "224/224 [==============================] - 19s 85ms/step - loss: 0.8051 - accuracy: 0.6995 - val_loss: 1.0310 - val_accuracy: 0.6403\n",
      "\n",
      "Epoch 00102: val_accuracy did not improve from 0.64352\n",
      "Epoch 103/150\n",
      "224/224 [==============================] - 19s 84ms/step - loss: 0.7923 - accuracy: 0.7033 - val_loss: 1.0352 - val_accuracy: 0.6406\n",
      "\n",
      "Epoch 00103: val_accuracy did not improve from 0.64352\n",
      "Epoch 104/150\n",
      "224/224 [==============================] - 19s 84ms/step - loss: 0.8159 - accuracy: 0.6933 - val_loss: 1.0342 - val_accuracy: 0.6357\n",
      "\n",
      "Epoch 00104: val_accuracy did not improve from 0.64352\n",
      "Epoch 105/150\n",
      "224/224 [==============================] - 19s 84ms/step - loss: 0.8024 - accuracy: 0.7008 - val_loss: 1.0457 - val_accuracy: 0.6389\n",
      "\n",
      "Epoch 00105: val_accuracy did not improve from 0.64352\n",
      "Epoch 106/150\n",
      "224/224 [==============================] - 19s 84ms/step - loss: 0.8021 - accuracy: 0.6997 - val_loss: 1.0421 - val_accuracy: 0.6328\n",
      "\n",
      "Epoch 00106: ReduceLROnPlateau reducing learning rate to 0.004999999888241291.\n",
      "\n",
      "Epoch 00106: val_accuracy did not improve from 0.64352\n",
      "Epoch 107/150\n",
      "224/224 [==============================] - 19s 84ms/step - loss: 0.7884 - accuracy: 0.7022 - val_loss: 1.0358 - val_accuracy: 0.6380\n",
      "\n",
      "Epoch 00107: val_accuracy did not improve from 0.64352\n",
      "Epoch 108/150\n",
      "224/224 [==============================] - 19s 85ms/step - loss: 0.8106 - accuracy: 0.6936 - val_loss: 1.0435 - val_accuracy: 0.6383\n",
      "\n",
      "Epoch 00108: val_accuracy did not improve from 0.64352\n",
      "Epoch 109/150\n",
      "224/224 [==============================] - 20s 88ms/step - loss: 0.7796 - accuracy: 0.7098 - val_loss: 1.0295 - val_accuracy: 0.6400\n",
      "\n",
      "Epoch 00109: val_accuracy did not improve from 0.64352\n",
      "Epoch 110/150\n",
      "224/224 [==============================] - 20s 87ms/step - loss: 0.7881 - accuracy: 0.7035 - val_loss: 1.0291 - val_accuracy: 0.6380\n",
      "\n",
      "Epoch 00110: val_accuracy did not improve from 0.64352\n",
      "Epoch 111/150\n",
      "224/224 [==============================] - 20s 87ms/step - loss: 0.7855 - accuracy: 0.7025 - val_loss: 1.0297 - val_accuracy: 0.6325\n",
      "\n",
      "Epoch 00111: val_accuracy did not improve from 0.64352\n",
      "Epoch 112/150\n",
      "224/224 [==============================] - 19s 86ms/step - loss: 0.7842 - accuracy: 0.7078 - val_loss: 1.0317 - val_accuracy: 0.6354\n",
      "\n",
      "Epoch 00112: val_accuracy did not improve from 0.64352\n",
      "Epoch 113/150\n",
      "224/224 [==============================] - 19s 85ms/step - loss: 0.7836 - accuracy: 0.7026 - val_loss: 1.0227 - val_accuracy: 0.6374\n",
      "\n",
      "Epoch 00113: val_accuracy did not improve from 0.64352\n",
      "Epoch 114/150\n",
      "224/224 [==============================] - 19s 86ms/step - loss: 0.7866 - accuracy: 0.7054 - val_loss: 1.0317 - val_accuracy: 0.6343\n",
      "\n",
      "Epoch 00114: val_accuracy did not improve from 0.64352\n",
      "Epoch 115/150\n",
      "224/224 [==============================] - 19s 86ms/step - loss: 0.7730 - accuracy: 0.7132 - val_loss: 1.0366 - val_accuracy: 0.6340\n",
      "\n",
      "Epoch 00115: val_accuracy did not improve from 0.64352\n",
      "Epoch 116/150\n",
      "224/224 [==============================] - 19s 85ms/step - loss: 0.7770 - accuracy: 0.7093 - val_loss: 1.0461 - val_accuracy: 0.6351\n",
      "\n",
      "Epoch 00116: ReduceLROnPlateau reducing learning rate to 0.0024999999441206455.\n",
      "\n",
      "Epoch 00116: val_accuracy did not improve from 0.64352\n",
      "Epoch 117/150\n",
      "224/224 [==============================] - 19s 84ms/step - loss: 0.7742 - accuracy: 0.7090 - val_loss: 1.0220 - val_accuracy: 0.6447\n",
      "\n",
      "Epoch 00117: val_accuracy improved from 0.64352 to 0.64468, saving model to /content/drive/MyDrive/fer/cps/baseline-weights-best.hdf5\n",
      "Epoch 118/150\n",
      "224/224 [==============================] - 19s 84ms/step - loss: 0.7832 - accuracy: 0.7027 - val_loss: 1.0266 - val_accuracy: 0.6340\n",
      "\n",
      "Epoch 00118: val_accuracy did not improve from 0.64468\n",
      "Epoch 119/150\n",
      "224/224 [==============================] - 19s 85ms/step - loss: 0.7672 - accuracy: 0.7140 - val_loss: 1.0330 - val_accuracy: 0.6351\n",
      "\n",
      "Epoch 00119: val_accuracy did not improve from 0.64468\n",
      "Epoch 120/150\n",
      "224/224 [==============================] - 19s 85ms/step - loss: 0.7602 - accuracy: 0.7158 - val_loss: 1.0355 - val_accuracy: 0.6392\n",
      "\n",
      "Epoch 00120: val_accuracy did not improve from 0.64468\n",
      "Epoch 121/150\n",
      "224/224 [==============================] - 19s 86ms/step - loss: 0.7680 - accuracy: 0.7113 - val_loss: 1.0301 - val_accuracy: 0.6374\n",
      "\n",
      "Epoch 00121: val_accuracy did not improve from 0.64468\n",
      "Epoch 122/150\n",
      "224/224 [==============================] - 19s 85ms/step - loss: 0.7806 - accuracy: 0.7065 - val_loss: 1.0348 - val_accuracy: 0.6360\n",
      "\n",
      "Epoch 00122: val_accuracy did not improve from 0.64468\n",
      "Epoch 123/150\n",
      "224/224 [==============================] - 19s 85ms/step - loss: 0.7665 - accuracy: 0.7119 - val_loss: 1.0374 - val_accuracy: 0.6389\n",
      "\n",
      "Epoch 00123: val_accuracy did not improve from 0.64468\n",
      "Epoch 124/150\n",
      "224/224 [==============================] - 19s 86ms/step - loss: 0.7787 - accuracy: 0.7085 - val_loss: 1.0255 - val_accuracy: 0.6441\n",
      "\n",
      "Epoch 00124: val_accuracy did not improve from 0.64468\n",
      "Epoch 125/150\n",
      "224/224 [==============================] - 19s 85ms/step - loss: 0.7693 - accuracy: 0.7154 - val_loss: 1.0192 - val_accuracy: 0.6424\n",
      "\n",
      "Epoch 00125: val_accuracy did not improve from 0.64468\n",
      "Epoch 126/150\n",
      "224/224 [==============================] - 19s 85ms/step - loss: 0.7773 - accuracy: 0.7100 - val_loss: 1.0385 - val_accuracy: 0.6406\n",
      "\n",
      "Epoch 00126: val_accuracy did not improve from 0.64468\n",
      "Epoch 127/150\n",
      "224/224 [==============================] - 19s 85ms/step - loss: 0.7631 - accuracy: 0.7150 - val_loss: 1.0368 - val_accuracy: 0.6398\n",
      "\n",
      "Epoch 00127: ReduceLROnPlateau reducing learning rate to 0.0012499999720603228.\n",
      "\n",
      "Epoch 00127: val_accuracy did not improve from 0.64468\n",
      "Epoch 128/150\n",
      "224/224 [==============================] - 19s 85ms/step - loss: 0.7671 - accuracy: 0.7129 - val_loss: 1.0167 - val_accuracy: 0.6435\n",
      "\n",
      "Epoch 00128: val_accuracy did not improve from 0.64468\n",
      "Epoch 129/150\n",
      "224/224 [==============================] - 19s 85ms/step - loss: 0.7699 - accuracy: 0.7116 - val_loss: 1.0301 - val_accuracy: 0.6348\n",
      "\n",
      "Epoch 00129: val_accuracy did not improve from 0.64468\n",
      "Epoch 130/150\n",
      "224/224 [==============================] - 19s 85ms/step - loss: 0.7620 - accuracy: 0.7176 - val_loss: 1.0211 - val_accuracy: 0.6415\n",
      "\n",
      "Epoch 00130: val_accuracy did not improve from 0.64468\n",
      "Epoch 131/150\n",
      "224/224 [==============================] - 19s 86ms/step - loss: 0.7543 - accuracy: 0.7254 - val_loss: 1.0257 - val_accuracy: 0.6424\n",
      "\n",
      "Epoch 00131: val_accuracy did not improve from 0.64468\n",
      "Epoch 132/150\n",
      "224/224 [==============================] - 19s 85ms/step - loss: 0.7649 - accuracy: 0.7144 - val_loss: 1.0331 - val_accuracy: 0.6403\n",
      "\n",
      "Epoch 00132: val_accuracy did not improve from 0.64468\n",
      "Epoch 133/150\n",
      "224/224 [==============================] - 19s 86ms/step - loss: 0.7647 - accuracy: 0.7152 - val_loss: 1.0332 - val_accuracy: 0.6409\n",
      "\n",
      "Epoch 00133: val_accuracy did not improve from 0.64468\n",
      "Epoch 134/150\n",
      "224/224 [==============================] - 19s 85ms/step - loss: 0.7684 - accuracy: 0.7093 - val_loss: 1.0353 - val_accuracy: 0.6363\n",
      "\n",
      "Epoch 00134: val_accuracy did not improve from 0.64468\n",
      "Epoch 135/150\n",
      "224/224 [==============================] - 19s 86ms/step - loss: 0.7666 - accuracy: 0.7107 - val_loss: 1.0274 - val_accuracy: 0.6429\n",
      "\n",
      "Epoch 00135: val_accuracy did not improve from 0.64468\n",
      "Epoch 136/150\n",
      "224/224 [==============================] - 19s 86ms/step - loss: 0.7663 - accuracy: 0.7096 - val_loss: 1.0234 - val_accuracy: 0.6406\n",
      "\n",
      "Epoch 00136: val_accuracy did not improve from 0.64468\n",
      "Epoch 137/150\n",
      "224/224 [==============================] - 20s 90ms/step - loss: 0.7647 - accuracy: 0.7156 - val_loss: 1.0329 - val_accuracy: 0.6395\n",
      "\n",
      "Epoch 00137: ReduceLROnPlateau reducing learning rate to 0.0006249999860301614.\n",
      "\n",
      "Epoch 00137: val_accuracy did not improve from 0.64468\n",
      "Epoch 138/150\n",
      "224/224 [==============================] - 19s 86ms/step - loss: 0.7579 - accuracy: 0.7154 - val_loss: 1.0328 - val_accuracy: 0.6374\n",
      "\n",
      "Epoch 00138: val_accuracy did not improve from 0.64468\n",
      "Epoch 139/150\n",
      "224/224 [==============================] - 19s 85ms/step - loss: 0.7631 - accuracy: 0.7144 - val_loss: 1.0293 - val_accuracy: 0.6354\n",
      "\n",
      "Epoch 00139: val_accuracy did not improve from 0.64468\n",
      "Epoch 140/150\n",
      "224/224 [==============================] - 19s 87ms/step - loss: 0.7597 - accuracy: 0.7194 - val_loss: 1.0313 - val_accuracy: 0.6395\n",
      "\n",
      "Epoch 00140: val_accuracy did not improve from 0.64468\n",
      "Epoch 141/150\n",
      "224/224 [==============================] - 19s 86ms/step - loss: 0.7714 - accuracy: 0.7125 - val_loss: 1.0293 - val_accuracy: 0.6366\n",
      "\n",
      "Epoch 00141: val_accuracy did not improve from 0.64468\n",
      "Epoch 142/150\n",
      "224/224 [==============================] - 19s 85ms/step - loss: 0.7528 - accuracy: 0.7184 - val_loss: 1.0291 - val_accuracy: 0.6372\n",
      "\n",
      "Epoch 00142: val_accuracy did not improve from 0.64468\n",
      "Epoch 143/150\n",
      "224/224 [==============================] - 19s 86ms/step - loss: 0.7595 - accuracy: 0.7157 - val_loss: 1.0297 - val_accuracy: 0.6377\n",
      "\n",
      "Epoch 00143: val_accuracy did not improve from 0.64468\n",
      "Epoch 144/150\n",
      "224/224 [==============================] - 19s 86ms/step - loss: 0.7755 - accuracy: 0.7067 - val_loss: 1.0250 - val_accuracy: 0.6398\n",
      "\n",
      "Epoch 00144: val_accuracy did not improve from 0.64468\n",
      "Epoch 145/150\n",
      "224/224 [==============================] - 19s 86ms/step - loss: 0.7538 - accuracy: 0.7177 - val_loss: 1.0316 - val_accuracy: 0.6369\n",
      "\n",
      "Epoch 00145: val_accuracy did not improve from 0.64468\n",
      "Epoch 146/150\n",
      "224/224 [==============================] - 19s 86ms/step - loss: 0.7524 - accuracy: 0.7165 - val_loss: 1.0389 - val_accuracy: 0.6369\n",
      "\n",
      "Epoch 00146: val_accuracy did not improve from 0.64468\n",
      "Epoch 147/150\n",
      "224/224 [==============================] - 19s 85ms/step - loss: 0.7600 - accuracy: 0.7145 - val_loss: 1.0440 - val_accuracy: 0.6337\n",
      "\n",
      "Epoch 00147: ReduceLROnPlateau reducing learning rate to 0.0003124999930150807.\n",
      "\n",
      "Epoch 00147: val_accuracy did not improve from 0.64468\n",
      "Epoch 148/150\n",
      "224/224 [==============================] - 19s 85ms/step - loss: 0.7479 - accuracy: 0.7212 - val_loss: 1.0314 - val_accuracy: 0.6374\n",
      "\n",
      "Epoch 00148: val_accuracy did not improve from 0.64468\n",
      "Epoch 149/150\n",
      "224/224 [==============================] - 19s 87ms/step - loss: 0.7629 - accuracy: 0.7171 - val_loss: 1.0356 - val_accuracy: 0.6357\n",
      "\n",
      "Epoch 00149: val_accuracy did not improve from 0.64468\n",
      "Epoch 150/150\n",
      "224/224 [==============================] - 20s 87ms/step - loss: 0.7537 - accuracy: 0.7188 - val_loss: 1.0314 - val_accuracy: 0.6363\n",
      "\n",
      "Epoch 00150: val_accuracy did not improve from 0.64468\n"
     ]
    }
   ],
   "source": [
    "history = model.fit(\n",
    "  train_generator,\n",
    "  validation_data = val_generator, \n",
    "  steps_per_epoch=28709// BS,\n",
    "  validation_steps=3589 // BS,\n",
    "  shuffle=True,\n",
    "  epochs=EPOCHS,\n",
    "  callbacks=callbacks_list,\n",
    "  use_multiprocessing=False,\n",
    ") "
   ]
  },
  {
   "cell_type": "code",
   "execution_count": null,
   "metadata": {
    "colab": {
     "base_uri": "https://localhost:8080/"
    },
    "executionInfo": {
     "elapsed": 1832,
     "status": "ok",
     "timestamp": 1620134041968,
     "user": {
      "displayName": "DILIP KUMAR",
      "photoUrl": "https://lh3.googleusercontent.com/-GvsKko-zSCI/AAAAAAAAAAI/AAAAAAAAAIM/MZ8MJ9KCzKU/s64/photo.jpg",
      "userId": "04096154569838380800"
     },
     "user_tz": -330
    },
    "id": "5G3AYXVBL9Ug",
    "outputId": "bacc88c3-fdfc-4b4f-83e0-b5bda92f4b73"
   },
   "outputs": [
    {
     "name": "stdout",
     "output_type": "stream",
     "text": [
      "\n",
      "# Evaluate on validation data\n",
      "29/29 [==============================] - 1s 28ms/step - loss: 1.0346 - accuracy: 0.6358\n",
      "val loss, val_accuracy: [1.0345531702041626, 0.6358317136764526]\n"
     ]
    }
   ],
   "source": [
    "print('\\n# Evaluate on validation data')\n",
    "results_val = model.evaluate(val_generator)\n",
    "print('val loss, val_accuracy:', results_val)"
   ]
  },
  {
   "cell_type": "code",
   "execution_count": null,
   "metadata": {
    "colab": {
     "base_uri": "https://localhost:8080/"
    },
    "executionInfo": {
     "elapsed": 1938,
     "status": "ok",
     "timestamp": 1620134042993,
     "user": {
      "displayName": "DILIP KUMAR",
      "photoUrl": "https://lh3.googleusercontent.com/-GvsKko-zSCI/AAAAAAAAAAI/AAAAAAAAAIM/MZ8MJ9KCzKU/s64/photo.jpg",
      "userId": "04096154569838380800"
     },
     "user_tz": -330
    },
    "id": "7Z6B4ZQtmiLg",
    "outputId": "19a1b3e1-82c6-474c-ddb1-c956fe480dea"
   },
   "outputs": [
    {
     "name": "stdout",
     "output_type": "stream",
     "text": [
      "\n",
      "# Evaluate on test data\n",
      "29/29 [==============================] - 1s 29ms/step - loss: 0.9813 - accuracy: 0.6503\n",
      "test loss, test accuracy: [0.9812926054000854, 0.6503204107284546]\n"
     ]
    }
   ],
   "source": [
    "print('\\n# Evaluate on test data')\n",
    "results_test = model.evaluate(test_generator)\n",
    "print('test loss, test accuracy:', results_test)"
   ]
  },
  {
   "cell_type": "code",
   "execution_count": null,
   "metadata": {
    "colab": {
     "base_uri": "https://localhost:8080/",
     "height": 590
    },
    "executionInfo": {
     "elapsed": 1313,
     "status": "ok",
     "timestamp": 1620134071863,
     "user": {
      "displayName": "DILIP KUMAR",
      "photoUrl": "https://lh3.googleusercontent.com/-GvsKko-zSCI/AAAAAAAAAAI/AAAAAAAAAIM/MZ8MJ9KCzKU/s64/photo.jpg",
      "userId": "04096154569838380800"
     },
     "user_tz": -330
    },
    "id": "GkfIE7aCmi18",
    "outputId": "c01394c9-4a5f-4ba9-cc73-8238740ae9f6"
   },
   "outputs": [
    {
     "name": "stdout",
     "output_type": "stream",
     "text": [
      "dict_keys(['loss', 'accuracy', 'val_loss', 'val_accuracy', 'lr'])\n"
     ]
    },
    {
     "data": {
      "image/png": "[encoded data removed]",
      "text/plain": [
       "<Figure size 432x288 with 1 Axes>"
      ]
     },
     "metadata": {
      "needs_background": "light",
      "tags": []
     },
     "output_type": "display_data"
    },
    {
     "data": {
      "image/png": "[encoded data removed]",
      "text/plain": [
       "<Figure size 432x288 with 1 Axes>"
      ]
     },
     "metadata": {
      "needs_background": "light",
      "tags": []
     },
     "output_type": "display_data"
    }
   ],
   "source": [
    "# list all data in history\n",
    "print(history.history.keys())\n",
    "\n",
    "# summarize history for accuracy\n",
    "plt.plot(history.history['accuracy'])\n",
    "plt.plot(history.history['val_accuracy'])\n",
    "plt.title('model accuracy')\n",
    "plt.ylabel('accuracy')\n",
    "plt.xlabel('epoch')\n",
    "plt.legend(['train', 'dev'], loc='upper left')\n",
    "plt.show()\n",
    "\n",
    "# summarize history for loss\n",
    "plt.plot(history.history['loss'])\n",
    "plt.plot(history.history['val_loss'])\n",
    "plt.title('model loss')\n",
    "plt.ylabel('loss')\n",
    "plt.xlabel('epoch')\n",
    "plt.legend(['train', 'dev'], loc='upper left')\n",
    "plt.show()"
   ]
  },
  {
   "cell_type": "code",
   "execution_count": null,
   "metadata": {
    "id": "hXu2wSTo3Jp_"
   },
   "outputs": [],
   "source": [
    "epoch_str = '-EPOCHS_' + str(EPOCHS)\n",
    "test_acc = '-test_acc_%.3f' % results_test[1]\n",
    "model.save('/content/drive/MyDrive/fer/saved_model/' + 'baseline' + epoch_str + test_acc + '.h5')"
   ]
  },
  {
   "cell_type": "code",
   "execution_count": null,
   "metadata": {
    "colab": {
     "base_uri": "https://localhost:8080/",
     "height": 399
    },
    "executionInfo": {
     "elapsed": 3196,
     "status": "ok",
     "timestamp": 1620134079749,
     "user": {
      "displayName": "DILIP KUMAR",
      "photoUrl": "https://lh3.googleusercontent.com/-GvsKko-zSCI/AAAAAAAAAAI/AAAAAAAAAIM/MZ8MJ9KCzKU/s64/photo.jpg",
      "userId": "04096154569838380800"
     },
     "user_tz": -330
    },
    "id": "0LuMI6pA67Lb",
    "outputId": "188fd3db-2ebe-4e21-dafa-9f91ca965cf6"
   },
   "outputs": [
    {
     "data": {
      "image/png": "[encoded data removed]",
      "text/plain": [
       "<Figure size 360x360 with 2 Axes>"
      ]
     },
     "metadata": {
      "needs_background": "light",
      "tags": []
     },
     "output_type": "display_data"
    }
   ],
   "source": [
    "from sklearn.metrics import confusion_matrix\n",
    "from seaborn import heatmap\n",
    "\n",
    "emotions = {0:'Angry', 1:'Disgust', 2:'Fear', 3:'Happy', 4:'Sad', 5:'Surprise', 6:'Neutral'}\n",
    "\n",
    "y_pred = model.predict(val_generator).argmax(axis=1)\n",
    "y_true = val_generator.classes\n",
    "\n",
    "cmat_df_test=pd.DataFrame(\n",
    "  confusion_matrix(y_true, y_pred, normalize='true').round(2),\n",
    "  index=emotions.values(), \n",
    "  columns=emotions.values()\n",
    "  )\n",
    "\n",
    "plt.figure(figsize=(5,5))\n",
    "heatmap(cmat_df_test,annot=True,cmap=plt.cm.Blues)\n",
    "plt.tight_layout()\n",
    "plt.title('Confusion Matrix on Private Test Set')\n",
    "plt.ylabel('True label')\n",
    "plt.xlabel('Predicted label')\n",
    "plt.show()"
   ]
  },
  {
   "cell_type": "code",
   "execution_count": null,
   "metadata": {
    "colab": {
     "base_uri": "https://localhost:8080/"
    },
    "executionInfo": {
     "elapsed": 1066,
     "status": "ok",
     "timestamp": 1620134080420,
     "user": {
      "displayName": "DILIP KUMAR",
      "photoUrl": "https://lh3.googleusercontent.com/-GvsKko-zSCI/AAAAAAAAAAI/AAAAAAAAAIM/MZ8MJ9KCzKU/s64/photo.jpg",
      "userId": "04096154569838380800"
     },
     "user_tz": -330
    },
    "id": "UDLVBiYdddtz",
    "outputId": "45cfd976-2a4e-4207-8eae-b0fa6d578397"
   },
   "outputs": [
    {
     "name": "stdout",
     "output_type": "stream",
     "text": [
      "tensorflow 2.4.1\n",
      "keras 2.4.0\n",
      "Python 3.7.10\n"
     ]
    }
   ],
   "source": [
    "print(f'tensorflow {tf.__version__}')\n",
    "print(f'keras {keras.__version__}')\n",
    "!python --version"
   ]
  },
  {
   "cell_type": "code",
   "execution_count": null,
   "metadata": {
    "id": "igT2MipegmX7"
   },
   "outputs": [],
   "source": []
  }
 ],
 "metadata": {
  "accelerator": "GPU",
  "colab": {
   "authorship_tag": "ABX9TyPI14iCEaVmh/T5m3TDtL5K",
   "collapsed_sections": [],
   "name": "fer_baseline.ipynb",
   "provenance": []
  },
  "kernelspec": {
   "display_name": "Python 3",
   "language": "python",
   "name": "python3"
  },
  "language_info": {
   "codemirror_mode": {
    "name": "ipython",
    "version": 3
   },
   "file_extension": ".py",
   "mimetype": "text/x-python",
   "name": "python",
   "nbconvert_exporter": "python",
   "pygments_lexer": "ipython3",
   "version": "3.8.10"
  },
  "widgets": {
   "application/vnd.jupyter.widget-state+json": {
    "2f704a88ded943279e2b4512053390d1": {
     "model_module": "@jupyter-widgets/base",
     "model_name": "LayoutModel",
     "state": {
      "_model_module": "@jupyter-widgets/base",
      "_model_module_version": "1.2.0",
      "_model_name": "LayoutModel",
      "_view_count": null,
      "_view_module": "@jupyter-widgets/base",
      "_view_module_version": "1.2.0",
      "_view_name": "LayoutView",
      "align_content": null,
      "align_items": null,
      "align_self": null,
      "border": null,
      "bottom": null,
      "display": null,
      "flex": null,
      "flex_flow": null,
      "grid_area": null,
      "grid_auto_columns": null,
      "grid_auto_flow": null,
      "grid_auto_rows": null,
      "grid_column": null,
      "grid_gap": null,
      "grid_row": null,
      "grid_template_areas": null,
      "grid_template_columns": null,
      "grid_template_rows": null,
      "height": null,
      "justify_content": null,
      "justify_items": null,
      "left": null,
      "margin": null,
      "max_height": null,
      "max_width": null,
      "min_height": null,
      "min_width": null,
      "object_fit": null,
      "object_position": null,
      "order": null,
      "overflow": null,
      "overflow_x": null,
      "overflow_y": null,
      "padding": null,
      "right": null,
      "top": null,
      "visibility": null,
      "width": null
     }
    },
    "34c3cdb6441e451792ddc58fb4c2e22a": {
     "model_module": "@jupyter-widgets/controls",
     "model_name": "HTMLModel",
     "state": {
      "_dom_classes": [],
      "_model_module": "@jupyter-widgets/controls",
      "_model_module_version": "1.5.0",
      "_model_name": "HTMLModel",
      "_view_count": null,
      "_view_module": "@jupyter-widgets/controls",
      "_view_module_version": "1.5.0",
      "_view_name": "HTMLView",
      "description": "",
      "description_tooltip": null,
      "layout": "IPY_MODEL_6dc5b00076d8404ab63838aca07fb5d6",
      "placeholder": "​",
      "style": "IPY_MODEL_6025978d229a48509ef0c2a2a34c0457",
      "value": " 35887/? [00:44&lt;00:00, 813.89it/s]"
     }
    },
    "36f7139597614dbeaf1499312a2a3b8b": {
     "model_module": "@jupyter-widgets/controls",
     "model_name": "HBoxModel",
     "state": {
      "_dom_classes": [],
      "_model_module": "@jupyter-widgets/controls",
      "_model_module_version": "1.5.0",
      "_model_name": "HBoxModel",
      "_view_count": null,
      "_view_module": "@jupyter-widgets/controls",
      "_view_module_version": "1.5.0",
      "_view_name": "HBoxView",
      "box_style": "",
      "children": [
       "IPY_MODEL_374ecffa35cc44a681db66c1693451af",
       "IPY_MODEL_34c3cdb6441e451792ddc58fb4c2e22a"
      ],
      "layout": "IPY_MODEL_caea5bbd09514249b4aea60d2ee8365c"
     }
    },
    "374ecffa35cc44a681db66c1693451af": {
     "model_module": "@jupyter-widgets/controls",
     "model_name": "FloatProgressModel",
     "state": {
      "_dom_classes": [],
      "_model_module": "@jupyter-widgets/controls",
      "_model_module_version": "1.5.0",
      "_model_name": "FloatProgressModel",
      "_view_count": null,
      "_view_module": "@jupyter-widgets/controls",
      "_view_module_version": "1.5.0",
      "_view_name": "ProgressView",
      "bar_style": "success",
      "description": "",
      "description_tooltip": null,
      "layout": "IPY_MODEL_2f704a88ded943279e2b4512053390d1",
      "max": 1,
      "min": 0,
      "orientation": "horizontal",
      "style": "IPY_MODEL_77d0750008c440d7aa994932008ab945",
      "value": 1
     }
    },
    "6025978d229a48509ef0c2a2a34c0457": {
     "model_module": "@jupyter-widgets/controls",
     "model_name": "DescriptionStyleModel",
     "state": {
      "_model_module": "@jupyter-widgets/controls",
      "_model_module_version": "1.5.0",
      "_model_name": "DescriptionStyleModel",
      "_view_count": null,
      "_view_module": "@jupyter-widgets/base",
      "_view_module_version": "1.2.0",
      "_view_name": "StyleView",
      "description_width": ""
     }
    },
    "6dc5b00076d8404ab63838aca07fb5d6": {
     "model_module": "@jupyter-widgets/base",
     "model_name": "LayoutModel",
     "state": {
      "_model_module": "@jupyter-widgets/base",
      "_model_module_version": "1.2.0",
      "_model_name": "LayoutModel",
      "_view_count": null,
      "_view_module": "@jupyter-widgets/base",
      "_view_module_version": "1.2.0",
      "_view_name": "LayoutView",
      "align_content": null,
      "align_items": null,
      "align_self": null,
      "border": null,
      "bottom": null,
      "display": null,
      "flex": null,
      "flex_flow": null,
      "grid_area": null,
      "grid_auto_columns": null,
      "grid_auto_flow": null,
      "grid_auto_rows": null,
      "grid_column": null,
      "grid_gap": null,
      "grid_row": null,
      "grid_template_areas": null,
      "grid_template_columns": null,
      "grid_template_rows": null,
      "height": null,
      "justify_content": null,
      "justify_items": null,
      "left": null,
      "margin": null,
      "max_height": null,
      "max_width": null,
      "min_height": null,
      "min_width": null,
      "object_fit": null,
      "object_position": null,
      "order": null,
      "overflow": null,
      "overflow_x": null,
      "overflow_y": null,
      "padding": null,
      "right": null,
      "top": null,
      "visibility": null,
      "width": null
     }
    },
    "77d0750008c440d7aa994932008ab945": {
     "model_module": "@jupyter-widgets/controls",
     "model_name": "ProgressStyleModel",
     "state": {
      "_model_module": "@jupyter-widgets/controls",
      "_model_module_version": "1.5.0",
      "_model_name": "ProgressStyleModel",
      "_view_count": null,
      "_view_module": "@jupyter-widgets/base",
      "_view_module_version": "1.2.0",
      "_view_name": "StyleView",
      "bar_color": null,
      "description_width": "initial"
     }
    },
    "caea5bbd09514249b4aea60d2ee8365c": {
     "model_module": "@jupyter-widgets/base",
     "model_name": "LayoutModel",
     "state": {
      "_model_module": "@jupyter-widgets/base",
      "_model_module_version": "1.2.0",
      "_model_name": "LayoutModel",
      "_view_count": null,
      "_view_module": "@jupyter-widgets/base",
      "_view_module_version": "1.2.0",
      "_view_name": "LayoutView",
      "align_content": null,
      "align_items": null,
      "align_self": null,
      "border": null,
      "bottom": null,
      "display": null,
      "flex": null,
      "flex_flow": null,
      "grid_area": null,
      "grid_auto_columns": null,
      "grid_auto_flow": null,
      "grid_auto_rows": null,
      "grid_column": null,
      "grid_gap": null,
      "grid_row": null,
      "grid_template_areas": null,
      "grid_template_columns": null,
      "grid_template_rows": null,
      "height": null,
      "justify_content": null,
      "justify_items": null,
      "left": null,
      "margin": null,
      "max_height": null,
      "max_width": null,
      "min_height": null,
      "min_width": null,
      "object_fit": null,
      "object_position": null,
      "order": null,
      "overflow": null,
      "overflow_x": null,
      "overflow_y": null,
      "padding": null,
      "right": null,
      "top": null,
      "visibility": null,
      "width": null
     }
    }
   }
  }
 },
 "nbformat": 4,
 "nbformat_minor": 1
}
